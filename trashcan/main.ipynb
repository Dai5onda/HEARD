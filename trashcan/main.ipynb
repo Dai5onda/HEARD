{
 "cells": [
  {
   "cell_type": "code",
   "execution_count": 12,
   "metadata": {},
   "outputs": [],
   "source": [
    "from scipy.io import loadmat\n",
    "import pandas as pd\n"
   ]
  },
  {
   "cell_type": "code",
   "execution_count": 33,
   "metadata": {},
   "outputs": [],
   "source": [
    "data = loadmat('/Users/daihonda/Desktop/hearD/subject1_accelerometerData.mat')\n"
   ]
  },
  {
   "cell_type": "code",
   "execution_count": 34,
   "metadata": {},
   "outputs": [
    {
     "name": "stdout",
     "output_type": "stream",
     "text": [
      "{'__header__': b'MATLAB 5.0 MAT-file, Platform: PCWIN64, Created on: Tue Jul 11 14:07:32 2023', '__version__': '1.0', '__globals__': [], 'labelled_behaviors': array([[(MatlabOpaque([(b'', b'MCOS', b'categorical', array([[3707764736],\n",
      "                             [         2],\n",
      "                             [         1],\n",
      "                             [         1],\n",
      "                             [         1],\n",
      "                             [         1]], dtype=uint32))               ],\n",
      "                     dtype=[('s0', 'O'), ('s1', 'O'), ('s2', 'O'), ('arr', 'O')]), MatlabOpaque([(b'', b'MCOS', b'categorical', array([[3707764736],\n",
      "                             [         2],\n",
      "                             [         1],\n",
      "                             [         1],\n",
      "                             [         2],\n",
      "                             [         1]], dtype=uint32))               ],\n",
      "                     dtype=[('s0', 'O'), ('s1', 'O'), ('s2', 'O'), ('arr', 'O')]), array([[ 360.029],\n",
      "               [ 369.432],\n",
      "               [ 375.924],\n",
      "               ...,\n",
      "               [3505.312],\n",
      "               [3510.766],\n",
      "               [3602.766]]), array([[ 369.411],\n",
      "               [ 375.924],\n",
      "               [ 406.742],\n",
      "               ...,\n",
      "               [3510.766],\n",
      "               [3512.233],\n",
      "               [3681.158]]), array([[ 9.382],\n",
      "               [ 6.492],\n",
      "               [30.818],\n",
      "               ...,\n",
      "               [ 5.454],\n",
      "               [ 1.467],\n",
      "               [78.392]]))                                                                                                                          ]],\n",
      "      dtype=[('ActivityType', 'O'), ('ActivityLabel', 'O'), ('StartTime', 'O'), ('StopTime', 'O'), ('Duration', 'O')]), 'accel_L': array([[(array([[102.1       , 102.10322047, 102.10644094, ...,          nan,\n",
      "                         nan,          nan]]), array([[-33.5146676 , -33.48658522, -33.53605984, ...,          nan,\n",
      "                         nan,          nan]]), array([[-55.09507169, -55.09991609, -54.98983686, ...,          nan,\n",
      "                         nan,          nan]]), array([[-0.25482178, -0.25482178, -0.25579834, ...,         nan,\n",
      "                        nan,         nan],\n",
      "               [ 0.05767822,  0.05718994,  0.0557251 , ...,         nan,\n",
      "                        nan,         nan],\n",
      "               [ 0.38043213,  0.38092041,  0.38189697, ...,         nan,\n",
      "                        nan,         nan]]))                                                                       ]],\n",
      "      dtype=[('timeaxis', 'O'), ('roll', 'O'), ('pitch', 'O'), ('xyz_coords', 'O')]), 'accel_R': array([[(array([[102.25      , 102.25330709, 102.25661417, ...,          nan,\n",
      "                         nan,          nan]]), array([[3.13945359, 3.2537687 , 3.14066229, ...,        nan,        nan,\n",
      "                       nan]]), array([[-68.93927681, -69.20722677, -68.69136104, ...,          nan,\n",
      "                         nan,          nan]]), array([[0.02587891, 0.02685547, 0.02587891, ...,        nan,        nan,\n",
      "                       nan],\n",
      "               [0.30224609, 0.30078125, 0.30371094, ...,        nan,        nan,\n",
      "                       nan],\n",
      "               [0.36230469, 0.36425781, 0.36083984, ...,        nan,        nan,\n",
      "                       nan]]))                                                                                         ]],\n",
      "      dtype=[('timeaxis', 'O'), ('roll', 'O'), ('pitch', 'O'), ('xyz_coords', 'O')]), '__function_workspace__': array([[ 0,  1, 73, ...,  0,  0,  0]], dtype=uint8)}\n"
     ]
    }
   ],
   "source": [
    "print(data)"
   ]
  },
  {
   "cell_type": "code",
   "execution_count": 57,
   "metadata": {},
   "outputs": [
    {
     "name": "stdout",
     "output_type": "stream",
     "text": [
      "7\n",
      "__header__\n",
      "__version__\n",
      "__globals__\n",
      "labelled_behaviors\n",
      "accel_L\n",
      "accel_R\n",
      "__function_workspace__\n",
      "[[(MatlabOpaque([(b'', b'MCOS', b'categorical', array([[3707764736],\n",
      "                       [         2],\n",
      "                       [         1],\n",
      "                       [         1],\n",
      "                       [         1],\n",
      "                       [         1]], dtype=uint32))               ],\n",
      "               dtype=[('s0', 'O'), ('s1', 'O'), ('s2', 'O'), ('arr', 'O')]), MatlabOpaque([(b'', b'MCOS', b'categorical', array([[3707764736],\n",
      "                       [         2],\n",
      "                       [         1],\n",
      "                       [         1],\n",
      "                       [         2],\n",
      "                       [         1]], dtype=uint32))               ],\n",
      "               dtype=[('s0', 'O'), ('s1', 'O'), ('s2', 'O'), ('arr', 'O')]), array([[ 360.029],\n",
      "         [ 369.432],\n",
      "         [ 375.924],\n",
      "         ...,\n",
      "         [3505.312],\n",
      "         [3510.766],\n",
      "         [3602.766]]), array([[ 369.411],\n",
      "         [ 375.924],\n",
      "         [ 406.742],\n",
      "         ...,\n",
      "         [3510.766],\n",
      "         [3512.233],\n",
      "         [3681.158]]), array([[ 9.382],\n",
      "         [ 6.492],\n",
      "         [30.818],\n",
      "         ...,\n",
      "         [ 5.454],\n",
      "         [ 1.467],\n",
      "         [78.392]]))                                                                                                                          ]]\n"
     ]
    }
   ],
   "source": [
    "import pandas as pd\n",
    "import numpy as np\n",
    "\n",
    "# Assuming 'data' is your loaded .mat fil\n",
    "print(len(data))\n",
    "# Assuming 'data' is your dictionary\n",
    "for key in data.keys():\n",
    "    print(key)\n",
    "accel_L = data['accel_L']\n",
    "accel_R = data['accel_R']\n",
    "labelled_behaviors = data['labelled_behaviors']\n",
    "print(labelled_behaviors)"
   ]
  },
  {
   "cell_type": "code",
   "execution_count": null,
   "metadata": {},
   "outputs": [],
   "source": []
  },
  {
   "cell_type": "code",
   "execution_count": 5,
   "metadata": {},
   "outputs": [
    {
     "ename": "KeyError",
     "evalue": "0",
     "output_type": "error",
     "traceback": [
      "\u001b[0;31m---------------------------------------------------------------------------\u001b[0m",
      "\u001b[0;31mKeyError\u001b[0m                                  Traceback (most recent call last)",
      "Cell \u001b[0;32mIn[5], line 1\u001b[0m\n\u001b[0;32m----> 1\u001b[0m my_var_data \u001b[39m=\u001b[39m data[\u001b[39m0\u001b[39;49m]\n",
      "\u001b[0;31mKeyError\u001b[0m: 0"
     ]
    }
   ],
   "source": [
    "my_var_data = data[0]\n"
   ]
  }
 ],
 "metadata": {
  "kernelspec": {
   "display_name": "Python 3",
   "language": "python",
   "name": "python3"
  },
  "language_info": {
   "codemirror_mode": {
    "name": "ipython",
    "version": 3
   },
   "file_extension": ".py",
   "mimetype": "text/x-python",
   "name": "python",
   "nbconvert_exporter": "python",
   "pygments_lexer": "ipython3",
   "version": "3.10.0"
  },
  "orig_nbformat": 4
 },
 "nbformat": 4,
 "nbformat_minor": 2
}
